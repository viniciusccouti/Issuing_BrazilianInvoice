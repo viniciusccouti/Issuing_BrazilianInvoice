{
 "cells": [
  {
   "cell_type": "code",
   "execution_count": 43,
   "id": "73e46129",
   "metadata": {},
   "outputs": [],
   "source": [
    "from selenium import webdriver\n",
    "from selenium.webdriver.common.by import By\n",
    "from selenium.webdriver.common.keys import Keys \n",
    "from selenium import webdriver\n",
    "\n",
    "# in order to not ask about allow download\n",
    "options = webdriver.ChromeOptions()\n",
    "options.add_experimental_option(\"prefs\", {\n",
    "  \"download.default_directory\": r\"C:\\Users\\vinicius_coutinho\\Downloads\",\n",
    "  \"download.prompt_for_download\": False,\n",
    "  \"download.directory_upgrade\": True,\n",
    "  \"safebrowsing.enabled\": True\n",
    "})\n",
    "\n",
    "navegador = webdriver.Chrome(options=options)"
   ]
  },
  {
   "cell_type": "code",
   "execution_count": 44,
   "id": "4a956d97",
   "metadata": {},
   "outputs": [],
   "source": [
    "#get in login page\n",
    "import os\n",
    "path = os.getcwd()\n",
    "arquivo = path + r\"\\login.html\"\n",
    "navegador.get(arquivo)\n"
   ]
  },
  {
   "cell_type": "code",
   "execution_count": 45,
   "id": "bf880911",
   "metadata": {},
   "outputs": [],
   "source": [
    "#fill login and password\n",
    "navegador.find_element(By.XPATH,'/html/body/div/form/input[1]').send_keys('vinicius@coutinho.com')\n",
    "navegador.find_element(By.XPATH,'/html/body/div/form/input[2]').send_keys('123456')\n",
    "#click in login button\n",
    "navegador.find_element(By.XPATH,'/html/body/div/form/button').click()\n",
    "\n"
   ]
  },
  {
   "cell_type": "code",
   "execution_count": 46,
   "id": "f797cbd1",
   "metadata": {},
   "outputs": [],
   "source": [
    "#fill invoice data\n",
    "\n",
    "#nome/razao social\n",
    "navegador.find_element(By.NAME,'nome').send_keys('Vinicius Training')\n",
    "\n",
    "#endereco\n",
    "navegador.find_element(By.NAME,'endereco').send_keys('Italy Street number 27')\n",
    "\n",
    "\n",
    "#bairro\n",
    "navegador.find_element(By.NAME,'bairro').send_keys('Lake View')\n",
    "\n",
    "#municipio\n",
    "navegador.find_element(By.NAME,'municipio').send_keys('San Antonio')\n",
    "\n",
    "#cep\n",
    "navegador.find_element(By.NAME,'cep').send_keys('22222222')"
   ]
  },
  {
   "cell_type": "code",
   "execution_count": 47,
   "id": "a8ccc27f",
   "metadata": {},
   "outputs": [],
   "source": [
    "#UF - list\n",
    "navegador.find_element(By.NAME,'uf').send_keys('PR')"
   ]
  },
  {
   "cell_type": "code",
   "execution_count": 48,
   "id": "cd6a0358",
   "metadata": {},
   "outputs": [],
   "source": [
    "#CNPJ\n",
    "navegador.find_element(By.NAME,'cnpj').send_keys('12322111111')\n",
    "\n",
    "#Inscricao\n",
    "navegador.find_element(By.NAME,'inscricao').send_keys('123457')\n",
    "\n",
    "#descricao\n",
    "texto = \"Refers to Power BI services from this month\"\n",
    "navegador.find_element(By.NAME,'descricao').send_keys(texto)\n",
    "\n",
    "#quantidade\n",
    "navegador.find_element(By.NAME,'quantidade').send_keys(10)\n",
    "\n",
    "#valor unit\n",
    "navegador.find_element(By.NAME,'valor_unitario').send_keys(150)\n",
    "\n",
    "#valor total\n",
    "navegador.find_element(By.NAME,'total').send_keys(1500)"
   ]
  },
  {
   "cell_type": "code",
   "execution_count": 49,
   "id": "8ed38d4f",
   "metadata": {},
   "outputs": [],
   "source": [
    "#click to issue invoice and download it\n",
    "navegador.find_element(By.CLASS_NAME,'registerbtn').click()\n"
   ]
  }
 ],
 "metadata": {
  "kernelspec": {
   "display_name": "Python 3 (ipykernel)",
   "language": "python",
   "name": "python3"
  },
  "language_info": {
   "codemirror_mode": {
    "name": "ipython",
    "version": 3
   },
   "file_extension": ".py",
   "mimetype": "text/x-python",
   "name": "python",
   "nbconvert_exporter": "python",
   "pygments_lexer": "ipython3",
   "version": "3.9.7"
  }
 },
 "nbformat": 4,
 "nbformat_minor": 5
}
